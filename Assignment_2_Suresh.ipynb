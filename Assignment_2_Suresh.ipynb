{
  "nbformat": 4,
  "nbformat_minor": 0,
  "metadata": {
    "colab": {
      "name": "Assignment 2_Suresh.ipynb",
      "provenance": [],
      "collapsed_sections": []
    },
    "kernelspec": {
      "display_name": "Python 3",
      "language": "python",
      "name": "python3"
    },
    "language_info": {
      "codemirror_mode": {
        "name": "ipython",
        "version": 3
      },
      "file_extension": ".py",
      "mimetype": "text/x-python",
      "name": "python",
      "nbconvert_exporter": "python",
      "pygments_lexer": "ipython3",
      "version": "3.7.6"
    },
    "nteract": {
      "version": "0.25.1"
    },
    "varInspector": {
      "cols": {
        "lenName": 16,
        "lenType": 16,
        "lenVar": 40
      },
      "kernels_config": {
        "python": {
          "delete_cmd_postfix": "",
          "delete_cmd_prefix": "del ",
          "library": "var_list.py",
          "varRefreshCmd": "print(var_dic_list())"
        },
        "r": {
          "delete_cmd_postfix": ") ",
          "delete_cmd_prefix": "rm(",
          "library": "var_list.r",
          "varRefreshCmd": "cat(var_dic_list()) "
        }
      },
      "types_to_exclude": [
        "module",
        "function",
        "builtin_function_or_method",
        "instance",
        "_Feature"
      ],
      "window_display": false
    }
  },
  "cells": [
    {
      "cell_type": "markdown",
      "metadata": {
        "id": "TX_-QfCapg5r"
      },
      "source": [
        "## CIND830 - Python Programming for Data Science  \n",
        "### Assignment 2 (10% of the final grade)\n",
        "### Due on March 15, 2021 11:59 PM"
      ]
    },
    {
      "cell_type": "markdown",
      "metadata": {
        "id": "U8IqCJzxpg5t"
      },
      "source": [
        "*****\n",
        "This is a Jupyter Notebook document that extends a simple formatting syntax for authoring HTML and PDF.\n",
        "Review [this](https://jupyter-notebook.readthedocs.io/en/stable/notebook.html) website for more details on using Juputer Notebook.\n",
        "\n",
        "Use the JupyterHub server on the Google Cloud Platform, provided by your designated instructor, for this assignment. Ensure using Python 3.7.6 release then complete the assignment by inserting your Python code wherever seeing the string \"#INSERT YOUR ANSWER HERE.\"\n",
        "\n",
        "When you click the `File` button, from the top navigation bar, then select `Export Notebook As ...`,\n",
        "a document (PDF or HTML format) will be generated that includes\n",
        " both the assignment content and the output of any embedded Python code chunks.\n",
        "\n",
        "Using [these](https://www.ryerson.ca/courses/students/tutorials/assignments/) guidelines,\n",
        "submit **both** the IPYNB and the exported file (PDF or HTML).\n",
        "Failing to submit both files will be subject to mark deduction."
      ]
    },
    {
      "cell_type": "markdown",
      "metadata": {
        "id": "_w2FpDl5pg5u"
      },
      "source": [
        "*****"
      ]
    },
    {
      "cell_type": "markdown",
      "metadata": {
        "id": "EgCYUXsUpg5w"
      },
      "source": [
        "### Question 1 **[50 pts]**:"
      ]
    },
    {
      "cell_type": "markdown",
      "metadata": {
        "id": "U8EiOXpFAvO0"
      },
      "source": [
        "**a)** **[15 pts]** Define a function called `isSymmetrical` that takes a string value as a parameter and returns `TRUE` if the given string is Symmetrical. A string is said to be symmetrical if the reverse of the string is the same as string. For example, “madam” is symmetrical, but “water” is not symmetrical."
      ]
    },
    {
      "cell_type": "code",
      "metadata": {
        "id": "uDtTitw9AvO1",
        "pycharm": {
          "name": "#%%\n"
        },
        "trusted": true,
        "colab": {
          "base_uri": "https://localhost:8080/"
        },
        "outputId": "5a7a2463-0246-4c81-dbad-fc07904ddc3d"
      },
      "source": [
        "def isSymmetrical(var1):\n",
        "    if var1== var1[-1::-1]:\n",
        "        return True\n",
        "    else:\n",
        "        return False \n",
        "    \n",
        "var= input(\"Please enter your word:\")\n",
        "\n",
        "if isSymmetrical(var): \n",
        "    print(\"String is symmentrical\")\n",
        "else:\n",
        "    print(\"String is not symmentrical\")\n"
      ],
      "execution_count": 1,
      "outputs": [
        {
          "output_type": "stream",
          "text": [
            "Please enter your word:car\n",
            "String is not symmentrical\n"
          ],
          "name": "stdout"
        }
      ]
    },
    {
      "cell_type": "markdown",
      "metadata": {
        "id": "7P6eyfpepg58"
      },
      "source": [
        "**b)** **[5 pts]** Modify the `isSymmetrical` function you created in Q1.a to take any type of data as an input and return `TRUE` if the input is symmetrical. For example, \"12321\" is symmetrical, but \"12345\" is not symmetrical."
      ]
    },
    {
      "cell_type": "code",
      "metadata": {
        "id": "s2xo2uaYpg59",
        "pycharm": {
          "name": "#%%\n"
        },
        "tags": [
          "parameters"
        ],
        "trusted": true
      },
      "source": [
        "def isSymmetrical(var1):\n",
        "    var1=str(var1)\n",
        "    if var1== var1[-1::-1]:\n",
        "        return True\n",
        "    else:\n",
        "        return False \n"
      ],
      "execution_count": 2,
      "outputs": []
    },
    {
      "cell_type": "markdown",
      "metadata": {
        "id": "xC08P3Mvpg6C"
      },
      "source": [
        "**c)** **[10 pts]** Define a function called `isSymmetricalVec` that calls `isSymmetrical` function you updated in Q1.b to take a list of elements and return their results in a list.  For example, given \\[\"1441\", \"Apple\", \"radar\", \"232\", \"plane\"\\] the function returns \\[`TRUE`, `FALSE`, `TRUE`, `TRUE`, `FALSE`\\]"
      ]
    },
    {
      "cell_type": "code",
      "metadata": {
        "id": "MVoBD9X1pg6D",
        "pycharm": {
          "name": "#%%\n"
        },
        "tags": [],
        "trusted": true,
        "colab": {
          "base_uri": "https://localhost:8080/"
        },
        "outputId": "92689c3e-a298-4fea-d83a-155aa1b66330"
      },
      "source": [
        "def isSymmetricalVec(values):\n",
        "    output=[]\n",
        "    for value in values:\n",
        "        if isSymmetrical(value):\n",
        "            output.append(\"TRUE\")\n",
        "        else:\n",
        "            output.append(\"FALSE\")\n",
        "    return output\n",
        "isSymmetricalVec([\"1441\", \"Apple\", \"radar\", \"232\", \"plane\"])\n"
      ],
      "execution_count": 3,
      "outputs": [
        {
          "output_type": "execute_result",
          "data": {
            "text/plain": [
              "['TRUE', 'FALSE', 'TRUE', 'TRUE', 'FALSE']"
            ]
          },
          "metadata": {
            "tags": []
          },
          "execution_count": 3
        }
      ]
    },
    {
      "cell_type": "markdown",
      "metadata": {
        "id": "M4dHoJWYpg6G"
      },
      "source": [
        "**d)** **[10 pts]** Define a function called `isSymmetricalDict` by modifying the function you created in Q1.c to return the results in a dictionary with their corresponding input elements. \\\n",
        "For example, given \\[\"1441\", \"Apple\", \"radar\", \"232\", \"plane\"\\] the function returns {\"1441\": `TRUE`, \"Apple\": `FALSE`, \"radar\": `TRUE`, \"232\": `TRUE`, \"plane\": `FALSE`\\}"
      ]
    },
    {
      "cell_type": "code",
      "metadata": {
        "id": "gtgmUSaQpg6H",
        "pycharm": {
          "name": "#%%\n"
        },
        "tags": [],
        "trusted": true,
        "colab": {
          "base_uri": "https://localhost:8080/"
        },
        "outputId": "e66363ee-5f43-48d9-8f3e-be887fcd9bea"
      },
      "source": [
        "def isSymmetricalDict(values):\n",
        "    output={}\n",
        "    for value in values:\n",
        "        if isSymmetrical(value):\n",
        "            output[value]= True\n",
        "        else:\n",
        "            output[value]= False\n",
        "    return output\n",
        "isSymmetricalDict([\"1441\", \"Apple\", \"radar\", \"232\", \"plane\"])"
      ],
      "execution_count": 4,
      "outputs": [
        {
          "output_type": "execute_result",
          "data": {
            "text/plain": [
              "{'1441': True, '232': True, 'Apple': False, 'plane': False, 'radar': True}"
            ]
          },
          "metadata": {
            "tags": []
          },
          "execution_count": 4
        }
      ]
    },
    {
      "cell_type": "markdown",
      "metadata": {
        "id": "EXPv2CWzRDgl"
      },
      "source": [
        "**e)** **[10 pts]** Define a function called `isSymmetricalTuple` by modifying the function you created in Q1.d to traverse the values of the returned dictionary **in reverse order** and return the dictionary keys that has a **`TRUE`** value as a tuple.  For example, given \\[\"1441\", \"Apple\", \"radar\", \"232\", \"plane\"\\] the function returns (\"232\", \"radar\",\"1441\")."
      ]
    },
    {
      "cell_type": "code",
      "metadata": {
        "id": "M25DHDYOUdpb",
        "trusted": true,
        "colab": {
          "base_uri": "https://localhost:8080/"
        },
        "outputId": "7494ad3b-f24c-4179-e1a9-da8f5e99ba20"
      },
      "source": [
        "def isSymmetricalTuple(values):\n",
        "    output=[]\n",
        "    items=list(values.items()) #converted dict into list of tuples\n",
        "    for key,value in items[-1::-1]: #reversed \n",
        "        if value == True: #only if true then return it \n",
        "            output.append(key)\n",
        "\n",
        "    return tuple(output) #converted to tuple if true from before\n",
        "\n",
        "isSymmetricalTuple(isSymmetricalDict([\"1441\", \"Apple\", \"radar\", \"232\", \"plane\"]))"
      ],
      "execution_count": 5,
      "outputs": [
        {
          "output_type": "execute_result",
          "data": {
            "text/plain": [
              "('232', 'radar', '1441')"
            ]
          },
          "metadata": {
            "tags": []
          },
          "execution_count": 5
        }
      ]
    },
    {
      "cell_type": "markdown",
      "metadata": {
        "id": "ES2Lj2aup8BB"
      },
      "source": [
        "*****"
      ]
    },
    {
      "cell_type": "markdown",
      "metadata": {
        "id": "TEbtnn-0pg6K",
        "nteract": {
          "transient": {
            "deleting": false
          }
        }
      },
      "source": [
        "\n",
        "\n",
        "### Question 2 **[80 pts]** :\n",
        "\n"
      ]
    },
    {
      "cell_type": "markdown",
      "metadata": {
        "id": "FRw3RLJ0pg6M",
        "nteract": {
          "transient": {
            "deleting": false
          }
        }
      },
      "source": [
        "**a)** **[15 pts]** Define a function called `minSubStr` that takes two string arguments ( S and T ), and returns `TRUE` if the characters of *T* exist in *S*, else returns `FALSE`. For example: given `S = 'xBxxAxxCxxAxCxxBxxxAxCxBxxxAxxBxCx'` and `T = \"ABC\"`, returns `TRUE` (`T = \"ABCD\"`, returns `FALSE)`\n"
      ]
    },
    {
      "cell_type": "code",
      "metadata": {
        "id": "PWvj1Z6lpg6N",
        "nteract": {
          "transient": {
            "deleting": false
          }
        },
        "tags": [],
        "trusted": true
      },
      "source": [
        "def minSubStr(S,T):\n",
        "    for i in T:\n",
        "        if i not in S:\n",
        "            return False \n",
        "    return True     \n"
      ],
      "execution_count": 6,
      "outputs": []
    },
    {
      "cell_type": "markdown",
      "metadata": {
        "id": "dGqJtsN4AvPB"
      },
      "source": [
        "**b)** **[15 pts]** Modify your `minSubStr` function defined in Q2.a to return the first possible substring (traversing from left) containing all the elements of `T`. For example: given `S = 'xBxxAxxCxxAxCxxBxxxAxCxBxxxAxxBxCx'` and `T = \"ABC\"`, returns **`\"BxxAxxC\"`**"
      ]
    },
    {
      "cell_type": "code",
      "metadata": {
        "id": "DVOaFVZvAvPO",
        "pycharm": {
          "name": "#%%\n"
        },
        "tags": [],
        "trusted": true,
        "colab": {
          "base_uri": "https://localhost:8080/",
          "height": 35
        },
        "outputId": "f127a262-3c0c-4dd4-9a46-465034d1e119"
      },
      "source": [
        "def minSubStr(S,T):\n",
        "    substr=[]\n",
        "    \n",
        "    for i in T:\n",
        "        if i not in S:\n",
        "            return -1\n",
        "        substr.append(S.index(i)) #substr index element of each matching\n",
        "    startindex=min(substr)    \n",
        "    stopindex=max(substr) +1\n",
        "    return S[startindex:stopindex]\n",
        "\n",
        "minSubStr('xBxxAxxCxxAxCxxBxxxAxCxBxxxAxxBxCx','ABC')"
      ],
      "execution_count": 7,
      "outputs": [
        {
          "output_type": "execute_result",
          "data": {
            "application/vnd.google.colaboratory.intrinsic+json": {
              "type": "string"
            },
            "text/plain": [
              "'BxxAxxC'"
            ]
          },
          "metadata": {
            "tags": []
          },
          "execution_count": 7
        }
      ]
    },
    {
      "cell_type": "markdown",
      "metadata": {
        "id": "mkFrWZ3kAvPQ"
      },
      "source": [
        "**c)** **[20 pts]** Modify your `minSubStr` function defined in Q2.b to return the shortest substring containing all the elements of T. For example: given `S = 'xBxxAxxCxxAxCxxBxxxAxCxBxxxAxxBxCx'` and `T = \"ABC\"`, returns **`\"AxCxB\"`**\n"
      ]
    },
    {
      "cell_type": "code",
      "metadata": {
        "id": "fP4sK_mKAvPR",
        "pycharm": {
          "name": "#%%\n"
        },
        "tags": [],
        "trusted": true,
        "colab": {
          "base_uri": "https://localhost:8080/",
          "height": 35
        },
        "outputId": "3a150f2d-1044-4532-8d0d-7a13f6d0a4da"
      },
      "source": [
        "def minSubStr(S,T):\n",
        "    substr=[]\n",
        "    \n",
        "    for i in T:\n",
        "        if i not in S:\n",
        "            return -1\n",
        "        substr.append(S.index(i)) #substr index element of each matching\n",
        "    startindex=min(substr)    \n",
        "    stopindex=max(substr) +1\n",
        "    return S[startindex:stopindex]\n",
        "\n",
        "minSubStr('xBxxAxxCxxAxCxxBxxxAxCxBxxxAxxBxCx','ABC')"
      ],
      "execution_count": 8,
      "outputs": [
        {
          "output_type": "execute_result",
          "data": {
            "application/vnd.google.colaboratory.intrinsic+json": {
              "type": "string"
            },
            "text/plain": [
              "'BxxAxxC'"
            ]
          },
          "metadata": {
            "tags": []
          },
          "execution_count": 8
        }
      ]
    },
    {
      "cell_type": "markdown",
      "metadata": {
        "id": "TK1dYXTIYsh2"
      },
      "source": [
        "**d)** **[30 pts]** modify your `minSubStr` function defined in Q2.c to return the shortest substring containing all the elements of T in order. For example: given `S = 'xBxxAxxCxxAxCxxBxxxAxCxBxxxAxxBxCx'` and `T = \"ABC\"`, returns **`\"AxxBxC\"`**"
      ]
    },
    {
      "cell_type": "code",
      "metadata": {
        "id": "M_I4iPfUY43m",
        "trusted": true
      },
      "source": [
        "def minSubstr(S,T):\n",
        "    t_dict = {}\n",
        "    for k in T:\n",
        "        t_dict[k] = []\n",
        "\n",
        "    for k in T:\n",
        "        for idx, value in enumerate(S):\n",
        "            if k == value:\n",
        "                t_dict[k].append(idx)\n",
        "    first = t_dict[T[0]]\n",
        "    combinations = []\n",
        "    for i in t_dict[T[0]]:\n",
        "        for j in t_dict[T[1]]:\n",
        "            if i < j and [i,j] not in combinations:\n",
        "                combinations.append([i,j])\n",
        "    if len(T) > 2:\n",
        "        for char in T[2:]:\n",
        "            for index, combination in enumerate(combinations):\n",
        "                for idx in t_dict[char]:\n",
        "                    if idx > combination[-1] and len(combination) != len(T):\n",
        "                        combinations[index].append(idx)\n",
        "    shortest_substring = ''\n",
        "    for combination in combinations:\n",
        "        if len(shortest_substring) == 0:\n",
        "            shortest_substring = S[combination[0]:combination[-1]+1]\n",
        "        elif len(S[combination[0]:combination[-1]+1]) < len(shortest_substring):\n",
        "            shortest_substring = S[combination[0]:combination[-1]+1]\n",
        "            \n",
        "    \n",
        "    return shortest_substring\n",
        "\n",
        "#test line print(minSubstr('xBxxAxxCxxAxCxxBxxxAxCxBxxxAxxBxCx', 'ABC'))\n",
        "#test line print(minSubstr('ABC', 'ABC'))\n",
        "#test line print(minSubstr('AxBxCxAxxCxxAxCxxBxxxAxCxBxxxAxxBxCx', 'ABC'))"
      ],
      "execution_count": 9,
      "outputs": []
    },
    {
      "cell_type": "markdown",
      "metadata": {
        "id": "M9eJ34NNAvPT"
      },
      "source": [
        "*****"
      ]
    },
    {
      "cell_type": "markdown",
      "metadata": {
        "id": "NNVEX5FMq_I7"
      },
      "source": [
        "### Question 3 **[30 pts]**:\n"
      ]
    },
    {
      "cell_type": "markdown",
      "metadata": {
        "id": "oDRF95yUAvPW",
        "pycharm": {
          "name": "#%% md\n"
        }
      },
      "source": [
        "**a)** Complete the given code to define three classes, Shape, Oval and Circle. \n",
        "- Shape will be the parent class of Oval and Circle. \n",
        "- Randomly create ten objects from Oval and Circle classes using the ``for`` loop given below\n",
        "- Your code should produce correct number of Shapes, Circle and Oval objects. The count of objects should be calculated within the class definitions. \n",
        "  - Example output (note that since it is random every time it will be a different number of shapes) \\\\\n",
        "  There are  10 random shape objects ['Circle', 'Circle', 'Circle', 'Circle', 'Oval', 'Circle', 'Oval', 'Oval', 'Circle', 'Circle'] \\\\\n",
        "\t 3 of them are ovals \\\\\n",
        "\t 7 of them are cirlces \\\\\n"
      ]
    },
    {
      "cell_type": "code",
      "metadata": {
        "id": "h6V2Y3iuBQ09",
        "trusted": true,
        "colab": {
          "base_uri": "https://localhost:8080/"
        },
        "outputId": "8ca44ae4-e821-4207-9ed8-df611def02d3"
      },
      "source": [
        "# Define Shape class\n",
        "class Shape(object):#create a class variable that is commonly shared among shapes not by init method, inside class outside init\n",
        "    shapecount = 0\n",
        "    def __init__(self):\n",
        "        Shape.shapecount +=1 #increment the count shape\n",
        "    \n",
        "# Define Oval class\n",
        "class Oval(Shape):\n",
        "    ovalcount = 0\n",
        "    def __init__(self):\n",
        "        super().__init__()\n",
        "        Oval.ovalcount +=1\n",
        "    \n",
        "# Define Circle class\n",
        "class Circle(Shape):\n",
        "    circlecount = 0\n",
        "    def __init__(self):\n",
        "        super().__init__()\n",
        "        Circle.circlecount +=1\n",
        "    \n",
        "\n",
        "# Run the following lines of code \n",
        "\n",
        "from random import choice\n",
        "list_of_shapes = [choice(['Circle', 'Oval']) for x in range(10)]\n",
        "for shape in list_of_shapes:\n",
        "    if shape == 'Oval':\n",
        "        Obj = Oval()\n",
        "    else:\n",
        "        Obj = Circle()\n",
        "# Print the list_of_shapes\n",
        "print(list_of_shapes)\n",
        "# Print number of shape objects\n",
        "print(\"Number of shape objects are\", Shape.shapecount)\n",
        "# Print number of Oval objects\n",
        "print(Oval.ovalcount, \"of them are ovals \")\n",
        "# Print number of circle objects\n",
        "print(Circle.circlecount, \"of them are circles\")"
      ],
      "execution_count": 10,
      "outputs": [
        {
          "output_type": "stream",
          "text": [
            "['Oval', 'Circle', 'Circle', 'Oval', 'Circle', 'Oval', 'Circle', 'Circle', 'Circle', 'Circle']\n",
            "Number of shape objects are 10\n",
            "3 of them are ovals \n",
            "7 of them are circles\n"
          ],
          "name": "stdout"
        }
      ]
    },
    {
      "cell_type": "markdown",
      "metadata": {
        "id": "l9l0sjUoAvPk"
      },
      "source": [
        "#### This is the end of assignment 2"
      ]
    }
  ]
}